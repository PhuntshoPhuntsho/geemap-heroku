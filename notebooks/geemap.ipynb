{
 "cells": [
  {
   "cell_type": "code",
   "execution_count": 4,
   "metadata": {},
   "outputs": [],
   "source": [
    "import ee\n",
    "import geemap\n",
    "ee.Initialize()"
   ]
  },
  {
   "cell_type": "markdown",
   "metadata": {},
   "source": [
    "## Earth Engine App"
   ]
  },
  {
   "cell_type": "code",
   "execution_count": 13,
   "metadata": {},
   "outputs": [],
   "source": [
    "estate = ee.FeatureCollection('users/phuntshophuntsho/Muara_Kalis_Estate')\n",
    "# dataset_xvw = ee.FeatureCollection('users/phuntshophuntsho/Muara_Kalis_Estate')\n",
    "# Map.addLayer(dataset_xvw, {}, \"Muara_Kalis_Estate\")"
   ]
  },
  {
   "cell_type": "code",
   "execution_count": 16,
   "metadata": {},
   "outputs": [],
   "source": [
    "Map = geemap.Map()\n",
    "Map.centerObject(estate)\n",
    "Map.addLayer(estate, {}, \"Muara_Kalis_Estate\")\n",
    "Map"
   ]
  },
  {
   "cell_type": "code",
   "execution_count": 17,
   "metadata": {},
   "outputs": [],
   "source": [
    "# Add Earth Engine dataset\n",
    "# dem = ee.Image('USGS/SRTMGL1_003')\n",
    "# landcover = ee.Image(\"ESA/GLOBCOVER_L4_200901_200912_V2_3\").select('landcover')\n",
    "# landsat7 = ee.Image('LE7_TOA_5YEAR/1999_2003')\n",
    "# states = ee.FeatureCollection(\"TIGER/2018/States\")\n",
    "\n",
    "# # Set visualization parameters.\n",
    "# vis_params = {\n",
    "#   'min': 0,\n",
    "#   'max': 4000,\n",
    "#   'palette': ['006633', 'E5FFCC', '662A00', 'D8D8D8', 'F5F5F5']}\n",
    "\n",
    "# # Add Earth Eninge layers to Map\n",
    "# Map.addLayer(landsat7, {'bands': ['B4', 'B3', 'B2'], 'min': 20, 'max': 200}, 'Landsat 7')\n",
    "# Map.addLayer(landcover, {}, 'Land cover')\n",
    "# Map.addLayer(dem, vis_params, 'STRM DEM', True, 1)\n",
    "# Map.addLayer(states, {}, \"US States\")\n",
    "\n",
    "# Map"
   ]
  },
  {
   "cell_type": "code",
   "execution_count": 18,
   "metadata": {
    "scrolled": true
   },
   "outputs": [],
   "source": [
    "# print('Change layer opacity:')\n",
    "# dem_layer = Map.layers[-2]\n",
    "# dem_layer.interact(opacity=(0, 1, 0.1))"
   ]
  },
  {
   "cell_type": "code",
   "execution_count": null,
   "metadata": {},
   "outputs": [],
   "source": []
  }
 ],
 "metadata": {
  "kernelspec": {
   "display_name": "Python 3",
   "language": "python",
   "name": "python3"
  },
  "language_info": {
   "codemirror_mode": {
    "name": "ipython",
    "version": 3
   },
   "file_extension": ".py",
   "mimetype": "text/x-python",
   "name": "python",
   "nbconvert_exporter": "python",
   "pygments_lexer": "ipython3",
   "version": "3.8.5"
  }
 },
 "nbformat": 4,
 "nbformat_minor": 4
}
